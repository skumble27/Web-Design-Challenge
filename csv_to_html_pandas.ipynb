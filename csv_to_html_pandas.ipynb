{
 "metadata": {
  "language_info": {
   "codemirror_mode": {
    "name": "ipython",
    "version": 3
   },
   "file_extension": ".py",
   "mimetype": "text/x-python",
   "name": "python",
   "nbconvert_exporter": "python",
   "pygments_lexer": "ipython3",
   "version": "3.6.12-final"
  },
  "orig_nbformat": 2,
  "kernelspec": {
   "name": "python361264bitbootcampmonashconda2e6efb6a376242db90ce542f5ab8dbba",
   "display_name": "Python 3.6.12 64-bit ('BootCampMonash': conda)"
  }
 },
 "nbformat": 4,
 "nbformat_minor": 2,
 "cells": [
  {
   "cell_type": "code",
   "execution_count": 1,
   "metadata": {},
   "outputs": [],
   "source": [
    "# Importing the Pandas Module to convert the CSV to an HTML Document\n",
    "import pandas as pd"
   ]
  },
  {
   "cell_type": "code",
   "execution_count": 2,
   "metadata": {},
   "outputs": [],
   "source": [
    "# Reading the CSV File into a dataframe\n",
    "cities_df = pd.read_csv('Resources/cities.csv')"
   ]
  },
  {
   "cell_type": "code",
   "execution_count": 3,
   "metadata": {},
   "outputs": [
    {
     "output_type": "execute_result",
     "data": {
      "text/plain": [
       "   City_ID          City  Cloudiness Country        Date  Humidity    Lat  \\\n",
       "0        0  jacareacanga           0      BR  1528902000        62  -6.22   \n",
       "1        1    kaitangata         100      NZ  1528905304        94 -46.28   \n",
       "2        2      goulburn          20      AU  1528905078        91 -34.75   \n",
       "3        3          lata          76      IN  1528905305        89  30.78   \n",
       "4        4    chokurdakh           0      RU  1528905306        88  70.62   \n",
       "\n",
       "      Lng  Max Temp  Wind Speed  \n",
       "0  -57.76     89.60        6.93  \n",
       "1  169.85     42.61        5.64  \n",
       "2  149.72     44.32       10.11  \n",
       "3   78.62     59.89        0.94  \n",
       "4  147.90     32.17        2.95  "
      ],
      "text/html": "<div>\n<style scoped>\n    .dataframe tbody tr th:only-of-type {\n        vertical-align: middle;\n    }\n\n    .dataframe tbody tr th {\n        vertical-align: top;\n    }\n\n    .dataframe thead th {\n        text-align: right;\n    }\n</style>\n<table border=\"1\" class=\"dataframe\">\n  <thead>\n    <tr style=\"text-align: right;\">\n      <th></th>\n      <th>City_ID</th>\n      <th>City</th>\n      <th>Cloudiness</th>\n      <th>Country</th>\n      <th>Date</th>\n      <th>Humidity</th>\n      <th>Lat</th>\n      <th>Lng</th>\n      <th>Max Temp</th>\n      <th>Wind Speed</th>\n    </tr>\n  </thead>\n  <tbody>\n    <tr>\n      <th>0</th>\n      <td>0</td>\n      <td>jacareacanga</td>\n      <td>0</td>\n      <td>BR</td>\n      <td>1528902000</td>\n      <td>62</td>\n      <td>-6.22</td>\n      <td>-57.76</td>\n      <td>89.60</td>\n      <td>6.93</td>\n    </tr>\n    <tr>\n      <th>1</th>\n      <td>1</td>\n      <td>kaitangata</td>\n      <td>100</td>\n      <td>NZ</td>\n      <td>1528905304</td>\n      <td>94</td>\n      <td>-46.28</td>\n      <td>169.85</td>\n      <td>42.61</td>\n      <td>5.64</td>\n    </tr>\n    <tr>\n      <th>2</th>\n      <td>2</td>\n      <td>goulburn</td>\n      <td>20</td>\n      <td>AU</td>\n      <td>1528905078</td>\n      <td>91</td>\n      <td>-34.75</td>\n      <td>149.72</td>\n      <td>44.32</td>\n      <td>10.11</td>\n    </tr>\n    <tr>\n      <th>3</th>\n      <td>3</td>\n      <td>lata</td>\n      <td>76</td>\n      <td>IN</td>\n      <td>1528905305</td>\n      <td>89</td>\n      <td>30.78</td>\n      <td>78.62</td>\n      <td>59.89</td>\n      <td>0.94</td>\n    </tr>\n    <tr>\n      <th>4</th>\n      <td>4</td>\n      <td>chokurdakh</td>\n      <td>0</td>\n      <td>RU</td>\n      <td>1528905306</td>\n      <td>88</td>\n      <td>70.62</td>\n      <td>147.90</td>\n      <td>32.17</td>\n      <td>2.95</td>\n    </tr>\n  </tbody>\n</table>\n</div>"
     },
     "metadata": {},
     "execution_count": 3
    }
   ],
   "source": [
    "# Viewing the DataFrame\n",
    "cities_df.head()"
   ]
  },
  {
   "cell_type": "code",
   "execution_count": 15,
   "metadata": {},
   "outputs": [
    {
     "output_type": "execute_result",
     "data": {
      "text/plain": [
       "             City  Cloudiness Country        Date  Humidity    Lat     Lng  \\\n",
       "0    jacareacanga           0      BR  1528902000        62  -6.22  -57.76   \n",
       "1      kaitangata         100      NZ  1528905304        94 -46.28  169.85   \n",
       "2        goulburn          20      AU  1528905078        91 -34.75  149.72   \n",
       "3            lata          76      IN  1528905305        89  30.78   78.62   \n",
       "4      chokurdakh           0      RU  1528905306        88  70.62  147.90   \n",
       "..            ...         ...     ...         ...       ...    ...     ...   \n",
       "542        scalea          36      IT  1528905631       100  39.82   15.79   \n",
       "543    san andres          68      PH  1528905632       100  13.32  122.68   \n",
       "544        muisne          92      EC  1528905633        84   0.61  -80.02   \n",
       "545           ati          20      TD  1528905633        25  13.21   18.34   \n",
       "546      san luis           0      AR  1528905472        53 -33.30  -66.34   \n",
       "\n",
       "     Max Temp  Wind Speed  \n",
       "0       89.60        6.93  \n",
       "1       42.61        5.64  \n",
       "2       44.32       10.11  \n",
       "3       59.89        0.94  \n",
       "4       32.17        2.95  \n",
       "..        ...         ...  \n",
       "542     70.06        5.30  \n",
       "543     83.47       22.64  \n",
       "544     76.90        4.63  \n",
       "545    104.53        4.97  \n",
       "546     42.43        2.62  \n",
       "\n",
       "[547 rows x 9 columns]"
      ],
      "text/html": "<div>\n<style scoped>\n    .dataframe tbody tr th:only-of-type {\n        vertical-align: middle;\n    }\n\n    .dataframe tbody tr th {\n        vertical-align: top;\n    }\n\n    .dataframe thead th {\n        text-align: right;\n    }\n</style>\n<table border=\"1\" class=\"dataframe\">\n  <thead>\n    <tr style=\"text-align: right;\">\n      <th></th>\n      <th>City</th>\n      <th>Cloudiness</th>\n      <th>Country</th>\n      <th>Date</th>\n      <th>Humidity</th>\n      <th>Lat</th>\n      <th>Lng</th>\n      <th>Max Temp</th>\n      <th>Wind Speed</th>\n    </tr>\n  </thead>\n  <tbody>\n    <tr>\n      <th>0</th>\n      <td>jacareacanga</td>\n      <td>0</td>\n      <td>BR</td>\n      <td>1528902000</td>\n      <td>62</td>\n      <td>-6.22</td>\n      <td>-57.76</td>\n      <td>89.60</td>\n      <td>6.93</td>\n    </tr>\n    <tr>\n      <th>1</th>\n      <td>kaitangata</td>\n      <td>100</td>\n      <td>NZ</td>\n      <td>1528905304</td>\n      <td>94</td>\n      <td>-46.28</td>\n      <td>169.85</td>\n      <td>42.61</td>\n      <td>5.64</td>\n    </tr>\n    <tr>\n      <th>2</th>\n      <td>goulburn</td>\n      <td>20</td>\n      <td>AU</td>\n      <td>1528905078</td>\n      <td>91</td>\n      <td>-34.75</td>\n      <td>149.72</td>\n      <td>44.32</td>\n      <td>10.11</td>\n    </tr>\n    <tr>\n      <th>3</th>\n      <td>lata</td>\n      <td>76</td>\n      <td>IN</td>\n      <td>1528905305</td>\n      <td>89</td>\n      <td>30.78</td>\n      <td>78.62</td>\n      <td>59.89</td>\n      <td>0.94</td>\n    </tr>\n    <tr>\n      <th>4</th>\n      <td>chokurdakh</td>\n      <td>0</td>\n      <td>RU</td>\n      <td>1528905306</td>\n      <td>88</td>\n      <td>70.62</td>\n      <td>147.90</td>\n      <td>32.17</td>\n      <td>2.95</td>\n    </tr>\n    <tr>\n      <th>...</th>\n      <td>...</td>\n      <td>...</td>\n      <td>...</td>\n      <td>...</td>\n      <td>...</td>\n      <td>...</td>\n      <td>...</td>\n      <td>...</td>\n      <td>...</td>\n    </tr>\n    <tr>\n      <th>542</th>\n      <td>scalea</td>\n      <td>36</td>\n      <td>IT</td>\n      <td>1528905631</td>\n      <td>100</td>\n      <td>39.82</td>\n      <td>15.79</td>\n      <td>70.06</td>\n      <td>5.30</td>\n    </tr>\n    <tr>\n      <th>543</th>\n      <td>san andres</td>\n      <td>68</td>\n      <td>PH</td>\n      <td>1528905632</td>\n      <td>100</td>\n      <td>13.32</td>\n      <td>122.68</td>\n      <td>83.47</td>\n      <td>22.64</td>\n    </tr>\n    <tr>\n      <th>544</th>\n      <td>muisne</td>\n      <td>92</td>\n      <td>EC</td>\n      <td>1528905633</td>\n      <td>84</td>\n      <td>0.61</td>\n      <td>-80.02</td>\n      <td>76.90</td>\n      <td>4.63</td>\n    </tr>\n    <tr>\n      <th>545</th>\n      <td>ati</td>\n      <td>20</td>\n      <td>TD</td>\n      <td>1528905633</td>\n      <td>25</td>\n      <td>13.21</td>\n      <td>18.34</td>\n      <td>104.53</td>\n      <td>4.97</td>\n    </tr>\n    <tr>\n      <th>546</th>\n      <td>san luis</td>\n      <td>0</td>\n      <td>AR</td>\n      <td>1528905472</td>\n      <td>53</td>\n      <td>-33.30</td>\n      <td>-66.34</td>\n      <td>42.43</td>\n      <td>2.62</td>\n    </tr>\n  </tbody>\n</table>\n<p>547 rows × 9 columns</p>\n</div>"
     },
     "metadata": {},
     "execution_count": 15
    }
   ],
   "source": [
    "cities_df_df = cities_df.drop(columns=['City_ID'])\n",
    "cities_df_df"
   ]
  },
  {
   "cell_type": "code",
   "execution_count": 16,
   "metadata": {},
   "outputs": [],
   "source": [
    "# Exporting the DataFrame as a HTML file\n",
    "cities_df_df.to_html('citiesdata.html')"
   ]
  },
  {
   "cell_type": "code",
   "execution_count": null,
   "metadata": {},
   "outputs": [],
   "source": []
  }
 ]
}